{
 "cells": [
  {
   "cell_type": "markdown",
   "id": "66313261",
   "metadata": {},
   "source": [
    "# 🚗 Dynamic Parking Pricing - Capstone Project"
   ]
  },
  {
   "cell_type": "code",
   "execution_count": null,
   "id": "e226e56d",
   "metadata": {},
   "outputs": [],
   "source": [
    "\n",
    "!pip install pathway bokeh panel --quiet\n"
   ]
  },
  {
   "cell_type": "code",
   "execution_count": null,
   "id": "33462a95",
   "metadata": {},
   "outputs": [],
   "source": [
    "\n",
    "import numpy as np\n",
    "import pandas as pd\n",
    "import matplotlib.pyplot as plt\n",
    "import datetime\n",
    "import pathway as pw\n",
    "import bokeh.plotting\n",
    "import panel as pn\n"
   ]
  },
  {
   "cell_type": "code",
   "execution_count": null,
   "id": "cb918672",
   "metadata": {},
   "outputs": [],
   "source": [
    "\n",
    "df = pd.read_csv(\"cleaned_dataset.csv\")\n",
    "df['Timestamp'] = pd.to_datetime(df['Timestamp'])\n",
    "df = df.sort_values(\"Timestamp\").reset_index(drop=True)\n",
    "df.head()\n"
   ]
  },
  {
   "cell_type": "code",
   "execution_count": null,
   "id": "875f9d3c",
   "metadata": {},
   "outputs": [],
   "source": [
    "\n",
    "class ParkingSchema(pw.Schema):\n",
    "    Timestamp: str\n",
    "    SystemCodeNumber: str\n",
    "    Occupancy: int\n",
    "    Capacity: int\n",
    "    QueueLength: int\n",
    "    TrafficLevel: int\n",
    "    IsSpecialDay: int\n",
    "    VehicleTypeWeight: float\n"
   ]
  },
  {
   "cell_type": "code",
   "execution_count": null,
   "id": "e4e0beba",
   "metadata": {},
   "outputs": [],
   "source": [
    "\n",
    "data = pw.demo.replay_csv(\"cleaned_dataset.csv\", schema=ParkingSchema, input_rate=1000)\n",
    "\n",
    "fmt = \"%Y-%m-%d %H:%M:%S\"\n",
    "data_with_time = data.with_columns(\n",
    "    t = data.Timestamp.dt.strptime(fmt),\n",
    "    day = data.Timestamp.dt.strptime(fmt).dt.strftime(\"%Y-%m-%dT00:00:00\")\n",
    ")\n"
   ]
  },
  {
   "cell_type": "markdown",
   "id": "634e4750",
   "metadata": {},
   "source": [
    "## 💸 Model 1: Linear Occupancy-Based Pricing"
   ]
  },
  {
   "cell_type": "code",
   "execution_count": null,
   "id": "87e4bdb7",
   "metadata": {},
   "outputs": [],
   "source": [
    "\n",
    "delta_window_1 = (\n",
    "    data_with_time.windowby(\n",
    "        pw.this.t,\n",
    "        instance=pw.this.SystemCodeNumber + \":\" + pw.this.day,\n",
    "        window=pw.temporal.tumbling(datetime.timedelta(minutes=30)),\n",
    "        behavior=pw.temporal.exactly_once_behavior()\n",
    "    )\n",
    "    .reduce(\n",
    "        t=pw.this._pw_window_end,\n",
    "        occ=pw.reducers.mean(pw.this.Occupancy),\n",
    "        cap=pw.reducers.max(pw.this.Capacity),\n",
    "    )\n",
    "    .with_columns(\n",
    "        price=10 + 5 * (pw.this.occ / pw.this.cap)\n",
    "    )\n",
    ")\n"
   ]
  },
  {
   "cell_type": "markdown",
   "id": "d0a435b5",
   "metadata": {},
   "source": [
    "## 📈 Model 2: Demand-Based Pricing"
   ]
  },
  {
   "cell_type": "code",
   "execution_count": null,
   "id": "7128fd43",
   "metadata": {},
   "outputs": [],
   "source": [
    "\n",
    "delta_window_2 = (\n",
    "    data_with_time.windowby(\n",
    "        pw.this.t,\n",
    "        instance=pw.this.SystemCodeNumber + \":\" + pw.this.day,\n",
    "        window=pw.temporal.tumbling(datetime.timedelta(minutes=30)),\n",
    "        behavior=pw.temporal.exactly_once_behavior()\n",
    "    )\n",
    "    .reduce(\n",
    "        t=pw.this._pw_window_end,\n",
    "        occ=pw.reducers.mean(pw.this.Occupancy),\n",
    "        cap=pw.reducers.max(pw.this.Capacity),\n",
    "        q=pw.reducers.mean(pw.this.QueueLength),\n",
    "        trf=pw.reducers.mean(pw.this.TrafficLevel),\n",
    "        sp=pw.reducers.max(pw.this.IsSpecialDay),\n",
    "        veh=pw.reducers.mean(pw.this.VehicleTypeWeight),\n",
    "    )\n",
    "    .with_columns(\n",
    "        demand = (\n",
    "            0.5 * (pw.this.occ / pw.this.cap) +\n",
    "            0.3 * pw.this.q -\n",
    "            0.2 * pw.this.trf +\n",
    "            0.1 * pw.this.sp +\n",
    "            0.2 * pw.this.veh\n",
    "        ),\n",
    "        price = pw.this.demand * 5 + 10\n",
    "    )\n",
    ")\n"
   ]
  },
  {
   "cell_type": "markdown",
   "id": "b030b9e6",
   "metadata": {},
   "source": [
    "## 📊 Visualization (Example using Model 2)"
   ]
  },
  {
   "cell_type": "code",
   "execution_count": null,
   "id": "3d0969b2",
   "metadata": {},
   "outputs": [],
   "source": [
    "\n",
    "pn.extension()\n",
    "\n",
    "def price_plotter(source):\n",
    "    fig = bokeh.plotting.figure(\n",
    "        height=400,\n",
    "        width=800,\n",
    "        title=\"Dynamic Price Over Time (Model 2)\",\n",
    "        x_axis_type=\"datetime\",\n",
    "    )\n",
    "    fig.line(\"t\", \"price\", source=source, line_width=2, color=\"navy\")\n",
    "    fig.circle(\"t\", \"price\", source=source, size=6, color=\"red\")\n",
    "    return fig\n",
    "\n",
    "viz = delta_window_2.plot(price_plotter, sorting_col=\"t\")\n",
    "pn.Column(viz).servable()\n"
   ]
  },
  {
   "cell_type": "code",
   "execution_count": null,
   "id": "b9085e52",
   "metadata": {},
   "outputs": [],
   "source": [
    "\n",
    "%%capture --no-display\n",
    "pw.run()\n"
   ]
  }
 ],
 "metadata": {},
 "nbformat": 4,
 "nbformat_minor": 5
}
